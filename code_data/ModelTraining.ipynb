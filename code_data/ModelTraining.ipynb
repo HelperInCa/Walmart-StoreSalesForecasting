{
 "cells": [
  {
   "cell_type": "markdown",
   "source": [
    "# 1. Import necessary packages and set path of files"
   ],
   "metadata": {
    "collapsed": false
   }
  },
  {
   "cell_type": "code",
   "execution_count": 1,
   "metadata": {
    "collapsed": true,
    "pycharm": {
     "is_executing": false
    }
   },
   "outputs": [],
   "source": [
    "import seaborn as sns\n",
    "import numpy as np\n",
    "import pandas as pd\n",
    "from sklearn.neighbors import KNeighborsRegressor\n",
    "from sklearn.metrics import mean_squared_error, accuracy_score, mean_absolute_error\n",
    "import matplotlib.pyplot as plt\n",
    "from sklearn.ensemble import RandomForestRegressor, ExtraTreesRegressor\n",
    "from sklearn.model_selection import GridSearchCV, train_test_split\n",
    "from sklearn.neural_network import MLPRegressor\n",
    "from sklearn.svm import SVR\n",
    "\n",
    "%matplotlib inline\n"
   ]
  },
  {
   "cell_type": "code",
   "execution_count": 3,
   "outputs": [
    {
     "data": {
      "text/plain": "'D:\\\\Python\\\\DataScience\\\\DataScience6105\\\\Project'"
     },
     "metadata": {},
     "output_type": "execute_result",
     "execution_count": 3
    }
   ],
   "source": [
    "%pwd\n"
   ],
   "metadata": {
    "collapsed": false,
    "pycharm": {
     "name": "#%%\n",
     "is_executing": false
    }
   }
  },
  {
   "cell_type": "code",
   "execution_count": 2,
   "outputs": [],
   "source": [
    "path = 'D:\\\\Python\\\\DataScience\\\\DataScience6105\\\\Project'\n"
   ],
   "metadata": {
    "collapsed": false,
    "pycharm": {
     "name": "#%%\n",
     "is_executing": false
    }
   }
  },
  {
   "cell_type": "markdown",
   "source": [
    "# 2. Preprocess data\n",
    "### Read data from trains.csv, features.csv, stores.csv and merge them into dataTrain variable. "
   ],
   "metadata": {
    "collapsed": false
   }
  },
  {
   "cell_type": "code",
   "execution_count": 3,
   "outputs": [
    {
     "name": "stderr",
     "text": [
      "C:\\Users\\Zhou\\Anaconda3\\lib\\site-packages\\pandas\\core\\reshape\\merge.py:946: UserWarning: You are merging on int and float columns where the float values are not equal to their int representation\n  'representation', UserWarning)\n"
     ],
     "output_type": "stream"
    },
    {
     "name": "stdout",
     "text": [
      "(421570, 16)\n"
     ],
     "output_type": "stream"
    },
    {
     "data": {
      "text/plain": "   Store  Dept        Date  weeklySales  isHoliday  Type Size  Temperature  \\\n0      1     1  2010-02-05     24924.50      False   NaN  NaN        42.31   \n1      1     1  2010-02-12     46039.49       True   NaN  NaN        38.51   \n2      1     1  2010-02-19     41595.55      False   NaN  NaN        39.93   \n3      1     1  2010-02-26     19403.54      False   NaN  NaN        46.63   \n4      1     1  2010-03-05     21827.90      False   NaN  NaN        46.50   \n\n   Fuel_Price  MarkDown1  MarkDown2  MarkDown3  MarkDown4  MarkDown5  \\\n0       2.572        NaN        NaN        NaN        NaN        NaN   \n1       2.548        NaN        NaN        NaN        NaN        NaN   \n2       2.514        NaN        NaN        NaN        NaN        NaN   \n3       2.561        NaN        NaN        NaN        NaN        NaN   \n4       2.625        NaN        NaN        NaN        NaN        NaN   \n\n          CPI  Unemployment  \n0  211.096358         8.106  \n1  211.242170         8.106  \n2  211.289143         8.106  \n3  211.319643         8.106  \n4  211.350143         8.106  ",
      "text/html": "<div>\n<style scoped>\n    .dataframe tbody tr th:only-of-type {\n        vertical-align: middle;\n    }\n\n    .dataframe tbody tr th {\n        vertical-align: top;\n    }\n\n    .dataframe thead th {\n        text-align: right;\n    }\n</style>\n<table border=\"1\" class=\"dataframe\">\n  <thead>\n    <tr style=\"text-align: right;\">\n      <th></th>\n      <th>Store</th>\n      <th>Dept</th>\n      <th>Date</th>\n      <th>weeklySales</th>\n      <th>isHoliday</th>\n      <th>Type</th>\n      <th>Size</th>\n      <th>Temperature</th>\n      <th>Fuel_Price</th>\n      <th>MarkDown1</th>\n      <th>MarkDown2</th>\n      <th>MarkDown3</th>\n      <th>MarkDown4</th>\n      <th>MarkDown5</th>\n      <th>CPI</th>\n      <th>Unemployment</th>\n    </tr>\n  </thead>\n  <tbody>\n    <tr>\n      <th>0</th>\n      <td>1</td>\n      <td>1</td>\n      <td>2010-02-05</td>\n      <td>24924.50</td>\n      <td>False</td>\n      <td>NaN</td>\n      <td>NaN</td>\n      <td>42.31</td>\n      <td>2.572</td>\n      <td>NaN</td>\n      <td>NaN</td>\n      <td>NaN</td>\n      <td>NaN</td>\n      <td>NaN</td>\n      <td>211.096358</td>\n      <td>8.106</td>\n    </tr>\n    <tr>\n      <th>1</th>\n      <td>1</td>\n      <td>1</td>\n      <td>2010-02-12</td>\n      <td>46039.49</td>\n      <td>True</td>\n      <td>NaN</td>\n      <td>NaN</td>\n      <td>38.51</td>\n      <td>2.548</td>\n      <td>NaN</td>\n      <td>NaN</td>\n      <td>NaN</td>\n      <td>NaN</td>\n      <td>NaN</td>\n      <td>211.242170</td>\n      <td>8.106</td>\n    </tr>\n    <tr>\n      <th>2</th>\n      <td>1</td>\n      <td>1</td>\n      <td>2010-02-19</td>\n      <td>41595.55</td>\n      <td>False</td>\n      <td>NaN</td>\n      <td>NaN</td>\n      <td>39.93</td>\n      <td>2.514</td>\n      <td>NaN</td>\n      <td>NaN</td>\n      <td>NaN</td>\n      <td>NaN</td>\n      <td>NaN</td>\n      <td>211.289143</td>\n      <td>8.106</td>\n    </tr>\n    <tr>\n      <th>3</th>\n      <td>1</td>\n      <td>1</td>\n      <td>2010-02-26</td>\n      <td>19403.54</td>\n      <td>False</td>\n      <td>NaN</td>\n      <td>NaN</td>\n      <td>46.63</td>\n      <td>2.561</td>\n      <td>NaN</td>\n      <td>NaN</td>\n      <td>NaN</td>\n      <td>NaN</td>\n      <td>NaN</td>\n      <td>211.319643</td>\n      <td>8.106</td>\n    </tr>\n    <tr>\n      <th>4</th>\n      <td>1</td>\n      <td>1</td>\n      <td>2010-03-05</td>\n      <td>21827.90</td>\n      <td>False</td>\n      <td>NaN</td>\n      <td>NaN</td>\n      <td>46.50</td>\n      <td>2.625</td>\n      <td>NaN</td>\n      <td>NaN</td>\n      <td>NaN</td>\n      <td>NaN</td>\n      <td>NaN</td>\n      <td>211.350143</td>\n      <td>8.106</td>\n    </tr>\n  </tbody>\n</table>\n</div>"
     },
     "metadata": {},
     "output_type": "execute_result",
     "execution_count": 3
    }
   ],
   "source": [
    "dataTrain = pd.read_csv(f'{path}/train.csv', header=0, names=['Store','Dept','Date','weeklySales','isHoliday'], sep=',')\n",
    "features = pd.read_csv(f'{path}/features.csv', header=0, names=['Store','Date','Temperature','Fuel_Price','MarkDown1','MarkDown2','MarkDown3','MarkDown4','MarkDown5','CPI','Unemployment','IsHoliday'], sep=',').drop(columns=['IsHoliday'])\n",
    "stores = pd.read_csv(f'{path}/stores.csv', header=0, names=['Store','Type','Size'], sep=',')\n",
    "dataTrain = dataTrain.merge(stores, how='left').merge(features, how='left')\n",
    "\n",
    "print(dataTrain.shape)\n",
    "dataTrain.head(5)\n"
   ],
   "metadata": {
    "collapsed": false,
    "pycharm": {
     "name": "#%%\n",
     "is_executing": false
    }
   }
  },
  {
   "cell_type": "markdown",
   "source": [
    "### Fill NAN in dataTrain  "
   ],
   "metadata": {
    "collapsed": false
   }
  },
  {
   "cell_type": "code",
   "execution_count": 4,
   "outputs": [
    {
     "name": "stdout",
     "text": [
      "(421570, 11)\n"
     ],
     "output_type": "stream"
    },
    {
     "data": {
      "text/plain": "   Store  Dept  weeklySales  isHoliday  Size  Temperature  MarkDown1  \\\n0      1     1     24924.50      False     0        42.31        0.0   \n1      1     1     46039.49       True     0        38.51        0.0   \n2      1     1     41595.55      False     0        39.93        0.0   \n3      1     1     19403.54      False     0        46.63        0.0   \n4      1     1     21827.90      False     0        46.50        0.0   \n\n   MarkDown2  MarkDown4  MarkDown5  Month  \n0        0.0        0.0        0.0      2  \n1        0.0        0.0        0.0      2  \n2        0.0        0.0        0.0      2  \n3        0.0        0.0        0.0      2  \n4        0.0        0.0        0.0      3  ",
      "text/html": "<div>\n<style scoped>\n    .dataframe tbody tr th:only-of-type {\n        vertical-align: middle;\n    }\n\n    .dataframe tbody tr th {\n        vertical-align: top;\n    }\n\n    .dataframe thead th {\n        text-align: right;\n    }\n</style>\n<table border=\"1\" class=\"dataframe\">\n  <thead>\n    <tr style=\"text-align: right;\">\n      <th></th>\n      <th>Store</th>\n      <th>Dept</th>\n      <th>weeklySales</th>\n      <th>isHoliday</th>\n      <th>Size</th>\n      <th>Temperature</th>\n      <th>MarkDown1</th>\n      <th>MarkDown2</th>\n      <th>MarkDown4</th>\n      <th>MarkDown5</th>\n      <th>Month</th>\n    </tr>\n  </thead>\n  <tbody>\n    <tr>\n      <th>0</th>\n      <td>1</td>\n      <td>1</td>\n      <td>24924.50</td>\n      <td>False</td>\n      <td>0</td>\n      <td>42.31</td>\n      <td>0.0</td>\n      <td>0.0</td>\n      <td>0.0</td>\n      <td>0.0</td>\n      <td>2</td>\n    </tr>\n    <tr>\n      <th>1</th>\n      <td>1</td>\n      <td>1</td>\n      <td>46039.49</td>\n      <td>True</td>\n      <td>0</td>\n      <td>38.51</td>\n      <td>0.0</td>\n      <td>0.0</td>\n      <td>0.0</td>\n      <td>0.0</td>\n      <td>2</td>\n    </tr>\n    <tr>\n      <th>2</th>\n      <td>1</td>\n      <td>1</td>\n      <td>41595.55</td>\n      <td>False</td>\n      <td>0</td>\n      <td>39.93</td>\n      <td>0.0</td>\n      <td>0.0</td>\n      <td>0.0</td>\n      <td>0.0</td>\n      <td>2</td>\n    </tr>\n    <tr>\n      <th>3</th>\n      <td>1</td>\n      <td>1</td>\n      <td>19403.54</td>\n      <td>False</td>\n      <td>0</td>\n      <td>46.63</td>\n      <td>0.0</td>\n      <td>0.0</td>\n      <td>0.0</td>\n      <td>0.0</td>\n      <td>2</td>\n    </tr>\n    <tr>\n      <th>4</th>\n      <td>1</td>\n      <td>1</td>\n      <td>21827.90</td>\n      <td>False</td>\n      <td>0</td>\n      <td>46.50</td>\n      <td>0.0</td>\n      <td>0.0</td>\n      <td>0.0</td>\n      <td>0.0</td>\n      <td>3</td>\n    </tr>\n  </tbody>\n</table>\n</div>"
     },
     "metadata": {},
     "output_type": "execute_result",
     "execution_count": 4
    }
   ],
   "source": [
    "dataTrain = pd.get_dummies(dataTrain, columns=['Type'])\n",
    "dataTrain[['MarkDown1','MarkDown2','MarkDown3','MarkDown4', 'MarkDown5']] = dataTrain[['MarkDown1','MarkDown2','MarkDown3','MarkDown4','MarkDown5']].fillna(0)\n",
    "dataTrain = dataTrain.fillna(0)\n",
    "dataTrain['Month'] = pd.to_datetime(dataTrain['Date']).dt.month\n",
    "dataTrain = dataTrain.drop(columns=[\"Date\", \"CPI\", \"Fuel_Price\", 'Unemployment', 'MarkDown3'])\n",
    "\n",
    "print(dataTrain.shape)\n",
    "dataTrain.head(5)\n"
   ],
   "metadata": {
    "collapsed": false,
    "pycharm": {
     "name": "#%%\n",
     "is_executing": false
    }
   }
  },
  {
   "cell_type": "markdown",
   "source": [
    "### Read data from test.csv and merge data into dataTest variable. Fill NAN in dataTest."
   ],
   "metadata": {
    "collapsed": false
   }
  },
  {
   "cell_type": "code",
   "execution_count": 33,
   "outputs": [
    {
     "name": "stderr",
     "text": [
      "C:\\Users\\Zhou\\Anaconda3\\lib\\site-packages\\pandas\\core\\reshape\\merge.py:946: UserWarning: You are merging on int and float columns where the float values are not equal to their int representation\n  'representation', UserWarning)\n"
     ],
     "output_type": "stream"
    },
    {
     "name": "stdout",
     "text": [
      "(115064, 10)\n"
     ],
     "output_type": "stream"
    },
    {
     "data": {
      "text/plain": "   Store  Dept  isHoliday  Size  Temperature  MarkDown1  MarkDown2  MarkDown4  \\\n0      1     1      False     0        55.32    6766.44    5147.70    3639.90   \n1      1     1      False     0        61.24   11421.32    3370.89    4646.79   \n2      1     1      False     0        52.92    9696.28     292.10    1133.15   \n3      1     1       True     0        56.23     883.59       4.17     209.91   \n4      1     1      False     0        52.34    2460.03       0.00     150.57   \n\n   MarkDown5  Month  \n0    2737.42     11  \n1    6154.16     11  \n2    6612.69     11  \n3     303.32     11  \n4    6966.34     11  ",
      "text/html": "<div>\n<style scoped>\n    .dataframe tbody tr th:only-of-type {\n        vertical-align: middle;\n    }\n\n    .dataframe tbody tr th {\n        vertical-align: top;\n    }\n\n    .dataframe thead th {\n        text-align: right;\n    }\n</style>\n<table border=\"1\" class=\"dataframe\">\n  <thead>\n    <tr style=\"text-align: right;\">\n      <th></th>\n      <th>Store</th>\n      <th>Dept</th>\n      <th>isHoliday</th>\n      <th>Size</th>\n      <th>Temperature</th>\n      <th>MarkDown1</th>\n      <th>MarkDown2</th>\n      <th>MarkDown4</th>\n      <th>MarkDown5</th>\n      <th>Month</th>\n    </tr>\n  </thead>\n  <tbody>\n    <tr>\n      <th>0</th>\n      <td>1</td>\n      <td>1</td>\n      <td>False</td>\n      <td>0</td>\n      <td>55.32</td>\n      <td>6766.44</td>\n      <td>5147.70</td>\n      <td>3639.90</td>\n      <td>2737.42</td>\n      <td>11</td>\n    </tr>\n    <tr>\n      <th>1</th>\n      <td>1</td>\n      <td>1</td>\n      <td>False</td>\n      <td>0</td>\n      <td>61.24</td>\n      <td>11421.32</td>\n      <td>3370.89</td>\n      <td>4646.79</td>\n      <td>6154.16</td>\n      <td>11</td>\n    </tr>\n    <tr>\n      <th>2</th>\n      <td>1</td>\n      <td>1</td>\n      <td>False</td>\n      <td>0</td>\n      <td>52.92</td>\n      <td>9696.28</td>\n      <td>292.10</td>\n      <td>1133.15</td>\n      <td>6612.69</td>\n      <td>11</td>\n    </tr>\n    <tr>\n      <th>3</th>\n      <td>1</td>\n      <td>1</td>\n      <td>True</td>\n      <td>0</td>\n      <td>56.23</td>\n      <td>883.59</td>\n      <td>4.17</td>\n      <td>209.91</td>\n      <td>303.32</td>\n      <td>11</td>\n    </tr>\n    <tr>\n      <th>4</th>\n      <td>1</td>\n      <td>1</td>\n      <td>False</td>\n      <td>0</td>\n      <td>52.34</td>\n      <td>2460.03</td>\n      <td>0.00</td>\n      <td>150.57</td>\n      <td>6966.34</td>\n      <td>11</td>\n    </tr>\n  </tbody>\n</table>\n</div>"
     },
     "metadata": {},
     "output_type": "execute_result",
     "execution_count": 33
    }
   ],
   "source": [
    "dataTest = pd.read_csv(f'{path}/test.csv', header=0, names=['Store','Dept','Date','isHoliday'], sep=',')\n",
    "dataTest = dataTest.merge(stores, how='left').merge(features, how='left')\n",
    "dataTest = pd.get_dummies(dataTest, columns=['Type'])\n",
    "dataTest[['MarkDown1','MarkDown2','MarkDown3','MarkDown4', 'MarkDown5']] = dataTest[['MarkDown1','MarkDown2','MarkDown3','MarkDown4','MarkDown5']].fillna(0)\n",
    "dataTest = dataTest.fillna(0)\n",
    "columnDate = dataTest['Date']\n",
    "dataTest['Month'] = pd.to_datetime(dataTest['Date']).dt.month\n",
    "dataTest = dataTest.drop(columns=[\"Date\", \"CPI\", \"Fuel_Price\", 'Unemployment', 'MarkDown3'])\n",
    "\n",
    "print(dataTest.shape)\n",
    "dataTest.head(5)\n"
   ],
   "metadata": {
    "collapsed": false,
    "pycharm": {
     "name": "#%%\n",
     "is_executing": false
    }
   }
  },
  {
   "cell_type": "markdown",
   "source": [
    "# 3. Train and predict by different models\n",
    "### Split dataTrain into train_x, train_y and try to use knn at first."
   ],
   "metadata": {
    "collapsed": false,
    "pycharm": {
     "name": "#%% md\n"
    }
   }
  },
  {
   "cell_type": "code",
   "execution_count": 16,
   "outputs": [],
   "source": [
    "train_x = dataTrain.drop(columns=['weeklySales'])\n",
    "train_y = dataTrain['weeklySales']\n"
   ],
   "metadata": {
    "collapsed": false,
    "pycharm": {
     "name": "#%%\n",
     "is_executing": false
    }
   }
  },
  {
   "cell_type": "code",
   "execution_count": null,
   "outputs": [],
   "source": [
    "knn = KNeighborsRegressor(weights='uniform', n_neighbors=10)\n",
    "knn.fit(train_x, train_y)\n",
    "predict_y = knn.predict(test_x)\n"
   ],
   "metadata": {
    "collapsed": false,
    "pycharm": {
     "name": "#%%\n"
    }
   }
  },
  {
   "cell_type": "code",
   "execution_count": 26,
   "outputs": [
    {
     "name": "stdout",
     "text": [
      "0         35044.411\n1         46500.340\n2         46014.744\n3         34776.861\n4         34405.995\n5         43483.499\n6         35288.941\n7         30307.583\n8         49918.497\n9         38978.062\n10        34965.403\n11        39314.415\n12        28553.608\n13        39106.403\n14        34257.569\n15        30912.036\n16        31417.212\n17        31809.141\n18        31809.141\n19        25879.314\n20        25567.085\n21        31910.705\n22        31910.705\n23        23987.439\n24        23238.312\n25        24620.655\n26        26104.824\n27        26104.824\n28        26191.984\n29        26423.216\n            ...    \n421540    17326.403\n421541    15760.350\n421542    16067.473\n421543    15596.249\n421544    16846.948\n421545    16705.824\n421546    16667.323\n421547    16601.056\n421548    16104.600\n421549    17618.314\n421550    18090.447\n421551    16540.154\n421552    16544.303\n421553    17924.022\n421554    16941.335\n421555    16327.643\n421556    15723.830\n421557    16671.693\n421558    16818.184\n421559    16352.494\n421560    15858.052\n421561    15766.438\n421562    16711.969\n421563    16608.215\n421564    16704.995\n421565    15920.625\n421566    16350.880\n421567    16640.088\n421568    15787.284\n421569    17777.153\nLength: 421570, dtype: float64\n"
     ],
     "output_type": "stream"
    }
   ],
   "source": [
    "predict_y = pd.Series(predict_y)\n",
    "print(predict_y)\n"
   ],
   "metadata": {
    "collapsed": false,
    "pycharm": {
     "name": "#%%\n",
     "is_executing": false
    }
   }
  },
  {
   "cell_type": "markdown",
   "source": [
    "### Split train_x, train_y into small size. Prepare to use train_x_split, train_y_split to optimize hyperparameters."
   ],
   "metadata": {
    "collapsed": false
   }
  },
  {
   "cell_type": "code",
   "execution_count": 18,
   "outputs": [
    {
     "name": "stdout",
     "text": [
      "(10118, 10) (10118,) (411452, 10) (411452,)\n"
     ],
     "output_type": "stream"
    }
   ],
   "source": [
    "x_split, train_x_split, y_split, train_y_split = train_test_split(train_x, train_y, test_size=0.024, random_state=0)\n",
    "print(train_x_split.shape, train_y_split.shape, x_split.shape, y_split.shape)\n"
   ],
   "metadata": {
    "collapsed": false,
    "pycharm": {
     "name": "#%%\n",
     "is_executing": false
    }
   }
  },
  {
   "cell_type": "markdown",
   "source": [
    "### Split train_x, train_y into train part and valid part. Prepare to use valid part to compare predict_y with valid_y and achieve errors."
   ],
   "metadata": {
    "collapsed": false,
    "pycharm": {
     "name": "#%% md\n"
    }
   }
  },
  {
   "cell_type": "code",
   "execution_count": 19,
   "outputs": [
    {
     "name": "stdout",
     "text": [
      "(101177, 10) (101177,)\n"
     ],
     "output_type": "stream"
    }
   ],
   "source": [
    "train_x, valid_x, train_y, valid_y = train_test_split(train_x, train_y, test_size=0.24, random_state=0)\n",
    "print(valid_x.shape, valid_y.shape)\n"
   ],
   "metadata": {
    "collapsed": false,
    "pycharm": {
     "name": "#%%\n",
     "is_executing": false
    }
   }
  },
  {
   "cell_type": "markdown",
   "source": [
    "## (1) KNN model\n",
    "### Tune n_neighbors, weights, algorithm, leaf_size hyperparameters. Use GridSearchCV with 5 cross validation. During this process, use mean_absolute_error as a measure parameter.  \n",
    "### Find best estimator and best score in KNN model."
   ],
   "metadata": {
    "collapsed": false,
    "pycharm": {
     "name": "#%% md\n"
    }
   }
  },
  {
   "cell_type": "code",
   "execution_count": 11,
   "outputs": [
    {
     "name": "stdout",
     "text": [
      "Wall time: 0 ns\nFitting 5 folds for each of 72 candidates, totalling 360 fits\n",
      "KNeighborsRegressor(algorithm='auto', leaf_size=1, metric='minkowski',\n                    metric_params=None, n_jobs=None, n_neighbors=9, p=2,\n                    weights='uniform')\n-13848.985032505328\n"
     ],
     "output_type": "stream"
    },
    {
     "name": "stderr",
     "text": [
      "[Parallel(n_jobs=-1)]: Using backend LokyBackend with 4 concurrent workers.\n",
      "[Parallel(n_jobs=-1)]: Done  42 tasks      | elapsed:    5.9s\n",
      "[Parallel(n_jobs=-1)]: Done 192 tasks      | elapsed:   14.9s\n",
      "[Parallel(n_jobs=-1)]: Done 360 out of 360 | elapsed:   38.8s finished\n"
     ],
     "output_type": "stream"
    }
   ],
   "source": [
    "knn = KNeighborsRegressor()\n",
    "k_range = list(range(1,10))\n",
    "leaf_range = list(range(1,2))\n",
    "weight_options = ['uniform','distance']\n",
    "algorithm_options = ['auto','ball_tree','kd_tree','brute']\n",
    "paramGridKnn = dict(n_neighbors = k_range,weights = weight_options,algorithm=algorithm_options,leaf_size=leaf_range)\n",
    "\n",
    "%time\n",
    "gridKnn = GridSearchCV(knn,paramGridKnn,cv=5,verbose=1,n_jobs=-1,scoring='neg_mean_absolute_error')\n",
    "gridKnn.fit(train_x_split, train_y_split)\n",
    "print(gridKnn.best_estimator_)\n",
    "print(gridKnn.best_score_)\n"
   ],
   "metadata": {
    "collapsed": false,
    "pycharm": {
     "name": "#%%\n",
     "is_executing": false
    }
   }
  },
  {
   "cell_type": "markdown",
   "source": [
    "### Use best estimator of KNN and train data(train_x, train_y) to fit the KNN model. "
   ],
   "metadata": {
    "collapsed": false,
    "pycharm": {
     "name": "#%% md\n"
    }
   }
  },
  {
   "cell_type": "code",
   "execution_count": 20,
   "outputs": [
    {
     "name": "stdout",
     "text": [
      "(320393, 10) (320393,)\n"
     ],
     "output_type": "stream"
    }
   ],
   "source": [
    "knn = KNeighborsRegressor(leaf_size=1, n_jobs=-1, n_neighbors=9, weights='uniform')\n",
    "knn.fit(train_x, train_y)\n",
    "print(train_x.shape, train_y.shape)\n"
   ],
   "metadata": {
    "collapsed": false,
    "pycharm": {
     "name": "#%%\n",
     "is_executing": false
    }
   }
  },
  {
   "cell_type": "markdown",
   "source": [
    "### Predict pred_y by valid data(valid_x) and compare it with real data(valid_y).\n",
    "### Calculate mean absolute error and mean squared error."
   ],
   "metadata": {
    "collapsed": false,
    "pycharm": {
     "name": "#%% md\n"
    }
   }
  },
  {
   "cell_type": "code",
   "execution_count": 21,
   "outputs": [
    {
     "name": "stdout",
     "text": [
      "0          9416.720000\n1         20779.228889\n2           991.818889\n3           528.131111\n4          2692.280000\n5          2211.294444\n6          6578.207778\n7          9473.086667\n8          8276.484444\n9          1011.378889\n10         2753.304444\n11        25649.082222\n12         4218.046667\n13        27489.991111\n14        20683.005556\n15         1393.104444\n16         6261.768889\n17         4550.918889\n18         7590.698889\n19         3549.062222\n20        25546.351111\n21         7264.814444\n22          166.995556\n23        49811.320000\n24        16262.188889\n25        27474.627778\n26        35076.960000\n27        23529.950000\n28        68373.637778\n29          693.522222\n              ...     \n101147    14363.985556\n101148    36759.043333\n101149    14158.751111\n101150     3270.166667\n101151    17355.061111\n101152     8624.841111\n101153    23192.152222\n101154     3712.288889\n101155     2016.710000\n101156    21450.644444\n101157     2063.204444\n101158     4297.422222\n101159     1792.013333\n101160    14121.475556\n101161     2768.975556\n101162    33752.017778\n101163     3313.127778\n101164    20326.456667\n101165    24381.686667\n101166     3753.764444\n101167    17219.408889\n101168     7641.316667\n101169    13655.410000\n101170    11657.162222\n101171     6371.127778\n101172    48028.117778\n101173     4060.314444\n101174    25284.395556\n101175    41180.424444\n101176     8860.112222\nLength: 101177, dtype: float64\n10144.274310773308\n296059497.6182222\n"
     ],
     "output_type": "stream"
    }
   ],
   "source": [
    "pred_y = pd.Series(knn.predict(valid_x))\n",
    "print(pred_y)\n",
    "print(mean_absolute_error(valid_y, pred_y))\n",
    "print(mean_squared_error(valid_y, pred_y))\n"
   ],
   "metadata": {
    "collapsed": false,
    "pycharm": {
     "name": "#%%\n",
     "is_executing": false
    }
   }
  },
  {
   "cell_type": "markdown",
   "source": [
    "### Predict y value using test data and get output."
   ],
   "metadata": {
    "collapsed": false,
    "pycharm": {
     "name": "#%% md\n"
    }
   }
  },
  {
   "cell_type": "code",
   "execution_count": 34,
   "outputs": [],
   "source": [
    "predict_y = pd.Series(knn.predict(dataTest))\n"
   ],
   "metadata": {
    "collapsed": false,
    "pycharm": {
     "name": "#%%\n",
     "is_executing": false
    }
   }
  },
  {
   "cell_type": "code",
   "execution_count": 35,
   "outputs": [
    {
     "name": "stdout",
     "text": [
      "                      Id   WeeklySales\n0         1_1_2012-11-02  12519.847778\n1         1_1_2012-11-09  12235.064444\n2         1_1_2012-11-16  23666.962222\n3         1_1_2012-11-23  10679.366667\n4         1_1_2012-11-30  24955.297778\n5         1_1_2012-12-07  26630.873333\n6         1_1_2012-12-14  43094.551111\n7         1_1_2012-12-21  16121.767778\n8         1_1_2012-12-28  14331.158889\n9         1_1_2013-01-04  14955.776667\n10        1_1_2013-01-11  12495.694444\n11        1_1_2013-01-18   7678.696667\n12        1_1_2013-01-25  13227.120000\n13        1_1_2013-02-01  33928.334444\n14        1_1_2013-02-08  46524.003333\n15        1_1_2013-02-15  13939.505556\n16        1_1_2013-02-22  30236.866667\n17        1_1_2013-03-01  28383.317778\n18        1_1_2013-03-08  26912.812222\n19        1_1_2013-03-15  16347.048889\n20        1_1_2013-03-22  15734.257778\n21        1_1_2013-03-29  24547.067778\n22        1_1_2013-04-05  21594.076667\n23        1_1_2013-04-12  20515.292222\n24        1_1_2013-04-19   8158.694444\n25        1_1_2013-04-26  36220.013333\n26        1_1_2013-05-03  19721.206667\n27        1_1_2013-05-10  15416.093333\n28        1_1_2013-05-17  22974.027778\n29        1_1_2013-05-24  21862.981111\n...                  ...           ...\n115034  45_98_2013-01-04   5595.074444\n115035  45_98_2013-01-11  12280.427778\n115036  45_98_2013-01-18  52934.278889\n115037  45_98_2013-01-25  20811.591111\n115038  45_98_2013-02-01  48455.273333\n115039  45_98_2013-02-08   8783.668889\n115040  45_98_2013-02-15  57855.832222\n115041  45_98_2013-02-22  12578.118889\n115042  45_98_2013-03-01  45881.443333\n115043  45_98_2013-03-08  17474.021111\n115044  45_98_2013-03-15  20176.507778\n115045  45_98_2013-03-22  11745.972222\n115046  45_98_2013-03-29   8429.600000\n115047  45_98_2013-04-05  58796.113333\n115048  45_98_2013-04-12   4034.263333\n115049  45_98_2013-04-19   8293.235556\n115050  45_98_2013-04-26  15271.885556\n115051  45_98_2013-05-03  47091.368889\n115052  45_98_2013-05-10  85156.007778\n115053  45_98_2013-05-17  60494.757778\n115054  45_98_2013-05-24   3804.816667\n115055  45_98_2013-05-31  25904.493333\n115056  45_98_2013-06-07   8399.971111\n115057  45_98_2013-06-14  45133.210000\n115058  45_98_2013-06-21  20148.800000\n115059  45_98_2013-06-28  40650.844444\n115060  45_98_2013-07-05  66732.710000\n115061  45_98_2013-07-12   4868.081111\n115062  45_98_2013-07-19  15762.118889\n115063  45_98_2013-07-26  23065.268889\n\n[115064 rows x 2 columns]\n"
     ],
     "output_type": "stream"
    }
   ],
   "source": [
    "dataOutput = dataTest\n",
    "dataOutput['WeeklySales'] = predict_y\n",
    "dataOutput['Date'] = columnDate\n",
    "dataOutput['Id'] = dataOutput['Store'].astype(str) + '_' +  dataOutput['Dept'].astype(str) + '_' +  dataOutput['Date'].astype(str)\n",
    "dataOutput = dataOutput[['Id', 'WeeklySales']]\n",
    "print(dataOutput)\n"
   ],
   "metadata": {
    "collapsed": false,
    "pycharm": {
     "name": "#%%\n",
     "is_executing": false
    }
   }
  },
  {
   "cell_type": "markdown",
   "source": [
    "# (2) RandomForest model\n",
    "### Tune n_estimators, criterion, min_samples_leaf hyperparameters. Use GridSearchCV with 5 cross validation. During this process, use mean_absolute_error as a measure parameter.  \n",
    "### Find best estimator and best score in RandomForest model."
   ],
   "metadata": {
    "collapsed": false,
    "pycharm": {
     "name": "#%% md\n"
    }
   }
  },
  {
   "cell_type": "code",
   "execution_count": 18,
   "outputs": [
    {
     "name": "stdout",
     "text": [
      "Wall time: 0 ns\nFitting 5 folds for each of 30 candidates, totalling 150 fits\n",
      "RandomForestRegressor(bootstrap=True, criterion='mse', max_depth=None,\n                      max_features='auto', max_leaf_nodes=None,\n                      min_impurity_decrease=0.0, min_impurity_split=None,\n                      min_samples_leaf=2, min_samples_split=2,\n                      min_weight_fraction_leaf=0.0, n_estimators=30,\n                      n_jobs=None, oob_score=False, random_state=None,\n                      verbose=0, warm_start=False)\n-6052.189348497242\n"
     ],
     "output_type": "stream"
    },
    {
     "name": "stderr",
     "text": [
      "[Parallel(n_jobs=-1)]: Using backend LokyBackend with 4 concurrent workers.\n",
      "[Parallel(n_jobs=-1)]: Done  42 tasks      | elapsed:   12.2s\n",
      "[Parallel(n_jobs=-1)]: Done 150 out of 150 | elapsed: 16.6min finished\n"
     ],
     "output_type": "stream"
    }
   ],
   "source": [
    "rf = RandomForestRegressor()\n",
    "n_range = list(range(10, 31, 5))\n",
    "criterion_options = ['mse','mae']\n",
    "min_samples_leaf_options = list(range(2,7,2))\n",
    "paramGridRf = dict(n_estimators=n_range, criterion=criterion_options, min_samples_leaf=min_samples_leaf_options)\n",
    "\n",
    "%time\n",
    "gridRf = GridSearchCV(rf,paramGridRf,cv=5,verbose=1,n_jobs=-1,scoring='neg_mean_absolute_error')\n",
    "gridRf.fit(train_x_split, train_y_split)\n",
    "print(gridRf.best_estimator_)\n",
    "print(gridRf.best_score_)\n"
   ],
   "metadata": {
    "collapsed": false,
    "pycharm": {
     "name": "#%%\n",
     "is_executing": false
    }
   }
  },
  {
   "cell_type": "markdown",
   "source": [
    "### Use best estimator of RandomForest and train data(train_x, train_y) to fit the RandomForest model. "
   ],
   "metadata": {
    "collapsed": false
   }
  },
  {
   "cell_type": "code",
   "execution_count": null,
   "outputs": [],
   "source": [
    "rf = RandomForestRegressor(n_estimators=30, criterion='mae',min_samples_leaf=2)\n",
    "rf.fit(train_x, train_y)\n"
   ],
   "metadata": {
    "collapsed": false,
    "pycharm": {
     "name": "#%%\n",
     "is_executing": true
    }
   }
  },
  {
   "cell_type": "markdown",
   "source": [
    "### Predict pred_y by valid data(valid_x) and compare it with real data(valid_y).\n",
    "### Calculate mean absolute error and mean squared error."
   ],
   "metadata": {
    "collapsed": false
   }
  },
  {
   "cell_type": "code",
   "execution_count": 19,
   "outputs": [
    {
     "name": "stdout",
     "text": [
      "0          9831.559770\n1         22471.687778\n2           510.836524\n3           484.807833\n4            18.384659\n5          1602.395878\n6          3202.361306\n7          3205.098591\n8          4907.381748\n9            69.881250\n10         1884.592328\n11        37920.365595\n12          197.986217\n13        26988.186727\n14        15291.389044\n15         1940.492375\n16         7700.155481\n17           68.470817\n18           78.296626\n19         1217.120400\n20        36079.047306\n21        31248.473410\n22          322.314989\n23        39988.659771\n24        30456.614606\n25         8196.796817\n26        45570.803192\n27        56472.125591\n28        33961.592350\n29          740.254395\n              ...     \n101147    45838.561225\n101148     7862.381257\n101149    16012.413445\n101150     3136.270573\n101151    30988.373930\n101152     8110.012011\n101153     3055.664283\n101154     1593.351128\n101155     3782.486951\n101156    10424.921088\n101157      945.435889\n101158    12311.384561\n101159     5348.095010\n101160    28951.154606\n101161     8429.309445\n101162    44013.204535\n101163      856.099780\n101164     9869.930490\n101165    15946.412284\n101166       32.492020\n101167    17539.540122\n101168     1891.063000\n101169     6560.455369\n101170    10644.420547\n101171     6564.457471\n101172    11055.470828\n101173     4097.247278\n101174    36238.738876\n101175    48548.750811\n101176     1276.777090\nLength: 101177, dtype: float64\n5262.778810473657\n110148527.76437865\n"
     ],
     "output_type": "stream"
    }
   ],
   "source": [
    "pred_y = pd.Series(rf.predict(valid_x))\n",
    "print(pred_y)\n",
    "print(mean_absolute_error(valid_y, pred_y))\n",
    "print(mean_squared_error(valid_y,pred_y))\n"
   ],
   "metadata": {
    "collapsed": false,
    "pycharm": {
     "name": "#%%\n",
     "is_executing": false
    }
   }
  },
  {
   "cell_type": "markdown",
   "source": [
    "### Predict y value using test data and get output."
   ],
   "metadata": {
    "collapsed": false
   }
  },
  {
   "cell_type": "code",
   "execution_count": 20,
   "outputs": [
    {
     "name": "stdout",
     "text": [
      "                      Id   WeeklySales\n0         1_1_2012-11-02  28765.240979\n1         1_1_2012-11-09  28459.853322\n2         1_1_2012-11-16  28765.240979\n3         1_1_2012-11-23  28675.598026\n4         1_1_2012-11-30  30437.471904\n5         1_1_2012-12-07  23778.870372\n6         1_1_2012-12-14  29977.091120\n7         1_1_2012-12-21  28702.042715\n8         1_1_2012-12-28  28052.408638\n9         1_1_2013-01-04  21791.863964\n10        1_1_2013-01-11  18969.467325\n11        1_1_2013-01-18  23799.113634\n12        1_1_2013-01-25  18748.345242\n13        1_1_2013-02-01  19538.728712\n14        1_1_2013-02-08  19465.647629\n15        1_1_2013-02-15  19264.441240\n16        1_1_2013-02-22  19053.919017\n17        1_1_2013-03-01  19580.609879\n18        1_1_2013-03-08  19580.609879\n19        1_1_2013-03-15  21919.978060\n20        1_1_2013-03-22  22033.212949\n21        1_1_2013-03-29  19289.122323\n22        1_1_2013-04-05  19289.122323\n23        1_1_2013-04-12  21063.817051\n24        1_1_2013-04-19  21063.817051\n25        1_1_2013-04-26  19747.132656\n26        1_1_2013-05-03  22310.689505\n27        1_1_2013-05-10  22310.689505\n28        1_1_2013-05-17  22310.689505\n29        1_1_2013-05-24  21850.477310\n...                  ...           ...\n115034  45_98_2013-01-04  10866.491361\n115035  45_98_2013-01-11  10897.922111\n115036  45_98_2013-01-18  11894.344772\n115037  45_98_2013-01-25   9781.051713\n115038  45_98_2013-02-01   9603.402546\n115039  45_98_2013-02-08   9399.051669\n115040  45_98_2013-02-15   9781.051713\n115041  45_98_2013-02-22   9673.972335\n115042  45_98_2013-03-01   9781.051713\n115043  45_98_2013-03-08   9546.871007\n115044  45_98_2013-03-15   9546.871007\n115045  45_98_2013-03-22   8617.640844\n115046  45_98_2013-03-29   8617.640844\n115047  45_98_2013-04-05   8616.653894\n115048  45_98_2013-04-12   8616.653894\n115049  45_98_2013-04-19   8522.712439\n115050  45_98_2013-04-26   8308.146139\n115051  45_98_2013-05-03   8584.400106\n115052  45_98_2013-05-10   8515.818617\n115053  45_98_2013-05-17   8522.712439\n115054  45_98_2013-05-24   8955.949233\n115055  45_98_2013-05-31   8809.961280\n115056  45_98_2013-06-07   8955.949233\n115057  45_98_2013-06-14   8809.961280\n115058  45_98_2013-06-21   8630.037347\n115059  45_98_2013-06-28   8630.037347\n115060  45_98_2013-07-05   8630.037347\n115061  45_98_2013-07-12   8630.037347\n115062  45_98_2013-07-19   8630.037347\n115063  45_98_2013-07-26   8520.438930\n\n[115064 rows x 2 columns]\n"
     ],
     "output_type": "stream"
    }
   ],
   "source": [
    "predict_y = pd.Series(rf.predict(dataTest))\n",
    "dataOutput = dataTest\n",
    "dataOutput['WeeklySales'] = predict_y\n",
    "dataOutput['Date'] = columnDate\n",
    "dataOutput['Id'] = dataOutput['Store'].astype(str) + '_' +  dataOutput['Dept'].astype(str) + '_' +  dataOutput['Date'].astype(str)\n",
    "dataOutput = dataOutput[['Id', 'WeeklySales']]\n",
    "print(dataOutput)\n"
   ],
   "metadata": {
    "collapsed": false,
    "pycharm": {
     "name": "#%%\n",
     "is_executing": false
    }
   }
  },
  {
   "cell_type": "markdown",
   "source": [
    "# (3) ExtraTrees Model\n",
    "### Use hyperparameters setting manually. Use train data(train_x, train_y) to fit the ExtraTrees model. "
   ],
   "metadata": {
    "collapsed": false,
    "pycharm": {
     "name": "#%% md\n"
    }
   }
  },
  {
   "cell_type": "code",
   "execution_count": 9,
   "outputs": [
    {
     "name": "stdout",
     "text": [
      "Wall time: 0 ns\n"
     ],
     "output_type": "stream"
    },
    {
     "name": "stderr",
     "text": [
      "[Parallel(n_jobs=-1)]: Using backend ThreadingBackend with 4 concurrent workers.\n",
      "[Parallel(n_jobs=-1)]: Done  42 tasks      | elapsed:   25.6s\n",
      "[Parallel(n_jobs=-1)]: Done 100 out of 100 | elapsed:  1.1min finished\n"
     ],
     "output_type": "stream"
    },
    {
     "data": {
      "text/plain": "ExtraTreesRegressor(bootstrap=False, criterion='mse', max_depth=None,\n                    max_features='auto', max_leaf_nodes=None,\n                    min_impurity_decrease=0.0, min_impurity_split=None,\n                    min_samples_leaf=1, min_samples_split=2,\n                    min_weight_fraction_leaf=0.0, n_estimators=100, n_jobs=-1,\n                    oob_score=False, random_state=None, verbose=1,\n                    warm_start=False)"
     },
     "metadata": {},
     "output_type": "execute_result",
     "execution_count": 9
    }
   ],
   "source": [
    "%time\n",
    "et = ExtraTreesRegressor(n_estimators=100,verbose=1,n_jobs=-1)\n",
    "et.fit(train_x, train_y)\n"
   ],
   "metadata": {
    "collapsed": false,
    "pycharm": {
     "name": "#%%\n",
     "is_executing": false
    }
   }
  },
  {
   "cell_type": "markdown",
   "source": [
    "### Predict pred_y by valid data(valid_x) and compare it with real data(valid_y).\n",
    "### Calculate mean absolute error and mean squared error."
   ],
   "metadata": {
    "collapsed": false
   }
  },
  {
   "cell_type": "code",
   "execution_count": 10,
   "outputs": [
    {
     "name": "stderr",
     "text": [
      "[Parallel(n_jobs=4)]: Using backend ThreadingBackend with 4 concurrent workers.\n",
      "[Parallel(n_jobs=4)]: Done  42 tasks      | elapsed:   24.7s\n",
      "[Parallel(n_jobs=4)]: Done 100 out of 100 | elapsed:   33.0s finished\n"
     ],
     "output_type": "stream"
    },
    {
     "name": "stdout",
     "text": [
      "0         10305.2684\n1         25494.2228\n2           278.7024\n3           461.4720\n4             4.6494\n5           876.7376\n6          2429.1632\n7          2805.3606\n8          6323.6156\n9            72.5012\n10         1923.2784\n11        40528.6114\n12          118.6340\n13        34816.3682\n14        42223.0280\n15         1368.3474\n16         8181.2496\n17          144.4972\n18           20.8579\n19          819.6880\n20        28252.3623\n21        34613.6087\n22           32.3087\n23        33043.1480\n24        30436.2391\n25         7915.5263\n26        43893.0980\n27        55983.5507\n28        34148.3047\n29          266.6138\n             ...    \n101147    59910.8751\n101148    17228.8106\n101149    15505.5816\n101150     2377.8745\n101151    17837.0230\n101152     7007.5151\n101153     5221.7048\n101154     2487.4537\n101155     3311.5270\n101156    34732.5944\n101157     1198.7896\n101158     3275.0542\n101159      529.2041\n101160    26235.7140\n101161     4674.0776\n101162    43320.1911\n101163      118.0263\n101164     6378.2679\n101165    16232.5627\n101166       48.1738\n101167    19178.2747\n101168     1498.6742\n101169     4310.5107\n101170    11310.7300\n101171     7438.6037\n101172     9911.5195\n101173     3133.6110\n101174    35815.8203\n101175    42852.2029\n101176     2428.9132\nLength: 101177, dtype: float64\n",
      "2096.0216748119633\n29008643.0901295\n"
     ],
     "output_type": "stream"
    }
   ],
   "source": [
    "pred_y = pd.Series(et.predict(valid_x))\n",
    "print(pred_y)\n",
    "print(mean_absolute_error(valid_y, pred_y))\n",
    "print(mean_squared_error(valid_y,pred_y))\n"
   ],
   "metadata": {
    "collapsed": false,
    "pycharm": {
     "name": "#%%\n",
     "is_executing": false
    }
   }
  },
  {
   "cell_type": "markdown",
   "source": [
    "### Predict y value using test data and get output."
   ],
   "metadata": {
    "collapsed": false
   }
  },
  {
   "cell_type": "code",
   "execution_count": 17,
   "outputs": [
    {
     "name": "stderr",
     "text": [
      "[Parallel(n_jobs=4)]: Using backend ThreadingBackend with 4 concurrent workers.\n",
      "[Parallel(n_jobs=4)]: Done  42 tasks      | elapsed:    5.9s\n",
      "[Parallel(n_jobs=4)]: Done 100 out of 100 | elapsed:    9.1s finished\n"
     ],
     "output_type": "stream"
    },
    {
     "name": "stdout",
     "text": [
      "                      Id  WeeklySales\n0         1_1_2012-11-02   26230.7657\n1         1_1_2012-11-09   22653.4235\n2         1_1_2012-11-16   26529.6714\n3         1_1_2012-11-23   23836.4228\n4         1_1_2012-11-30   27757.9928\n5         1_1_2012-12-07   35890.2068\n6         1_1_2012-12-14   27825.4362\n7         1_1_2012-12-21   31409.1384\n8         1_1_2012-12-28   23352.3515\n9         1_1_2013-01-04   19410.5289\n10        1_1_2013-01-11   18547.6476\n11        1_1_2013-01-18   18058.5872\n12        1_1_2013-01-25   18067.7606\n13        1_1_2013-02-01   28886.6875\n14        1_1_2013-02-08   32393.4704\n15        1_1_2013-02-15   37524.3035\n16        1_1_2013-02-22   27064.4748\n17        1_1_2013-03-01   25980.3850\n18        1_1_2013-03-08   23485.5407\n19        1_1_2013-03-15   22702.7227\n20        1_1_2013-03-22   30450.7098\n21        1_1_2013-03-29   29300.2291\n22        1_1_2013-04-05   28861.6140\n23        1_1_2013-04-12   31682.6893\n24        1_1_2013-04-19   18500.6708\n25        1_1_2013-04-26   31078.6521\n26        1_1_2013-05-03   14610.7717\n27        1_1_2013-05-10   20129.3766\n28        1_1_2013-05-17   34303.4912\n29        1_1_2013-05-24   19823.9317\n...                  ...          ...\n115034  45_98_2013-01-04    1376.7950\n115035  45_98_2013-01-11     946.5185\n115036  45_98_2013-01-18     908.0373\n115037  45_98_2013-01-25     857.2153\n115038  45_98_2013-02-01    1031.8285\n115039  45_98_2013-02-08    1381.2364\n115040  45_98_2013-02-15     881.9401\n115041  45_98_2013-02-22    1206.5792\n115042  45_98_2013-03-01     980.9983\n115043  45_98_2013-03-08    1623.2128\n115044  45_98_2013-03-15     824.0068\n115045  45_98_2013-03-22    1021.2337\n115046  45_98_2013-03-29     916.8250\n115047  45_98_2013-04-05     895.2859\n115048  45_98_2013-04-12     696.2740\n115049  45_98_2013-04-19     790.8175\n115050  45_98_2013-04-26     819.3016\n115051  45_98_2013-05-03     906.4867\n115052  45_98_2013-05-10     734.6850\n115053  45_98_2013-05-17     708.4852\n115054  45_98_2013-05-24     969.5650\n115055  45_98_2013-05-31    1043.7216\n115056  45_98_2013-06-07    1257.5362\n115057  45_98_2013-06-14    1288.0282\n115058  45_98_2013-06-21    1011.1503\n115059  45_98_2013-06-28    1331.9514\n115060  45_98_2013-07-05     672.6451\n115061  45_98_2013-07-12     773.9404\n115062  45_98_2013-07-19     690.8377\n115063  45_98_2013-07-26     980.4266\n\n[115064 rows x 2 columns]\n"
     ],
     "output_type": "stream"
    }
   ],
   "source": [
    "predict_y = pd.Series(et.predict(dataTest))\n",
    "dataOutput = dataTest\n",
    "dataOutput['WeeklySales'] = predict_y\n",
    "dataOutput['Date'] = columnDate\n",
    "dataOutput['Id'] = dataOutput['Store'].astype(str) + '_' +  dataOutput['Dept'].astype(str) + '_' +  dataOutput['Date'].astype(str)\n",
    "dataOutput = dataOutput[['Id', 'WeeklySales']]\n",
    "print(dataOutput)\n"
   ],
   "metadata": {
    "collapsed": false,
    "pycharm": {
     "name": "#%%\n",
     "is_executing": false
    }
   }
  },
  {
   "cell_type": "markdown",
   "source": [
    "# 4. Compare errors and present them in pictures\n",
    "### Mean absolute error comparison"
   ],
   "metadata": {
    "collapsed": false
   }
  },
  {
   "cell_type": "code",
   "execution_count": 7,
   "outputs": [
    {
     "data": {
      "text/plain": "<Figure size 432x288 with 1 Axes>",
      "image/png": "[encoded data removed]"
     },
     "metadata": {
      "needs_background": "light"
     },
     "output_type": "display_data"
    }
   ],
   "source": [
    "x_data = ['KNN', 'RandomForest', 'ExtraTrees']\n",
    "y_data = [10144.274310773308, 5262.778810473657, 2096.0216748119633]\n",
    "y_data_2 = [296059497.6182222, 110148527.76437865, 29008643.0901295]\n",
    "\n",
    "plt.bar(x=x_data,height=y_data,width=0.5,color='steelblue',alpha=0.8)\n",
    "for x, y in enumerate(y_data):\n",
    "    plt.text(x, y + 100, '%s' % y, ha='center', va='bottom')\n",
    "plt.title('mean_absolute_error comparison')\n",
    "plt.xlabel('model name')\n",
    "plt.ylabel('error value')\n",
    "plt.show()\n"
   ],
   "metadata": {
    "collapsed": false,
    "pycharm": {
     "name": "#%%\n",
     "is_executing": false
    }
   }
  },
  {
   "cell_type": "markdown",
   "source": [
    "### Mean squared error comparison"
   ],
   "metadata": {
    "collapsed": false,
    "pycharm": {
     "name": "#%% md\n"
    }
   }
  },
  {
   "cell_type": "code",
   "execution_count": 8,
   "outputs": [
    {
     "data": {
      "text/plain": "<Figure size 432x288 with 1 Axes>",
      "image/png": "[encoded data removed]"
     },
     "metadata": {
      "needs_background": "light"
     },
     "output_type": "display_data"
    }
   ],
   "source": [
    "x_data = ['KNN', 'RandomForest', 'ExtraTrees']\n",
    "y_data = [10144.274310773308, 5262.778810473657, 2096.0216748119633]\n",
    "y_data_2 = [296059497.6182222, 110148527.76437865, 29008643.0901295]\n",
    "\n",
    "plt.bar(x=x_data,height=y_data_2,width=0.5,color='steelblue',alpha=0.8)\n",
    "for x, y in enumerate(y_data_2):\n",
    "    plt.text(x, y + 100, '%s' % y, ha='center', va='bottom')\n",
    "plt.title('mean_squared_error comparison')\n",
    "plt.xlabel('model name')\n",
    "plt.ylabel('error value')\n",
    "plt.show()"
   ],
   "metadata": {
    "collapsed": false,
    "pycharm": {
     "name": "#%%\n",
     "is_executing": false
    }
   }
  }
 ],
 "metadata": {
  "language_info": {
   "codemirror_mode": {
    "name": "ipython",
    "version": 2
   },
   "file_extension": ".py",
   "mimetype": "text/x-python",
   "name": "python",
   "nbconvert_exporter": "python",
   "pygments_lexer": "ipython2",
   "version": "2.7.6"
  },
  "kernelspec": {
   "name": "python3",
   "language": "python",
   "display_name": "Python 3"
  },
  "pycharm": {
   "stem_cell": {
    "cell_type": "raw",
    "source": [],
    "metadata": {
     "collapsed": false
    }
   }
  }
 },
 "nbformat": 4,
 "nbformat_minor": 0
}